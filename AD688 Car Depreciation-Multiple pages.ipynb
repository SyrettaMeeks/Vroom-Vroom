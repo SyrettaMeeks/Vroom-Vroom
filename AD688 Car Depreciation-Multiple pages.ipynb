{
 "cells": [
  {
   "cell_type": "code",
   "execution_count": null,
   "id": "938c31f0-243e-4213-820d-4ddda00e867c",
   "metadata": {},
   "outputs": [
    {
     "ename": "ModuleNotFoundError",
     "evalue": "No module named 'bs4'",
     "output_type": "error",
     "traceback": [
      "\u001b[1;31m---------------------------------------------------------------------------\u001b[0m",
      "\u001b[1;31mModuleNotFoundError\u001b[0m                       Traceback (most recent call last)",
      "Cell \u001b[1;32mIn[2], line 1\u001b[0m\n\u001b[1;32m----> 1\u001b[0m \u001b[38;5;28;01mfrom\u001b[39;00m \u001b[38;5;21;01mbs4\u001b[39;00m \u001b[38;5;28;01mimport\u001b[39;00m BeautifulSoup\n\u001b[0;32m      2\u001b[0m \u001b[38;5;28;01mimport\u001b[39;00m \u001b[38;5;21;01mrequests\u001b[39;00m\n\u001b[0;32m      3\u001b[0m \u001b[38;5;28;01mimport\u001b[39;00m \u001b[38;5;21;01mpandas\u001b[39;00m \u001b[38;5;28;01mas\u001b[39;00m \u001b[38;5;21;01mpd\u001b[39;00m\n",
      "\u001b[1;31mModuleNotFoundError\u001b[0m: No module named 'bs4'"
     ]
    }
   ],
   "source": [
    "from bs4 import BeautifulSoup\n",
    "import requests\n",
    "import pandas as pd"
   ]
  },
  {
   "cell_type": "code",
   "execution_count": null,
   "id": "e2da7b97-93b7-40b1-bede-acbee0690fae",
   "metadata": {},
   "outputs": [],
   "source": [
    "#Create empty lists to store the data we are about to collect from the website\n",
    "#We would like to collect the names of the cars, the mileage, the price, the rating, the number of reviews the car received\n",
    "\n",
    "car_name = []\n",
    "car_mileage = []\n",
    "car_price = []\n",
    "car_rating = []\n",
    "car_ratingcount = []   "
   ]
  },
  {
   "cell_type": "code",
   "execution_count": null,
   "id": "431b5456-103a-4afe-bdac-ca4f833abb7e",
   "metadata": {},
   "outputs": [],
   "source": [
    "#We need to create a variable to store the url of the website, I'm calling this variable website_url. We then need to send a request to the website\n",
    "#and scrape multiple pages\n",
    "\n",
    "for i in range(1,11):\n",
    "    website_url =\"https://www.cars.com/shopping/results/?dealer_id=&keyword=&list_price_max=&list_price_min=&makes[]=toyota&maximum_distance=30&mileage_max=&models[]=toyota-rav4&monthly_payment=&page=\" + str(i) + \"&page_size=20&sort=best_match_desc&stock_type=used&trims[]=toyota-rav4-le&year_max=&year_min=&zip=02215\"\n",
    "    \n",
    "    #make request to the website\n",
    "    web_request = requests.get(website_url, headers={'user-agent': 'Mozilla/5.0'})\n",
    "    \n",
    "    # Create an object to store the html elements of the request\n",
    "    soup = BeautifulSoup(web_request.content,'html.parser')\n",
    "    \n",
    "    # Create a list that contains the results of the web page\n",
    "    results_list = soup.find_all('div', {'class':'vehicle-card'})\n",
    "    \n",
    "    for i in results_list:\n",
    "    \n",
    "        #get the names of the cars. If the name of the car is not present, append 'n/a' to the list\n",
    "        try:\n",
    "            car_name.append(i.find('h2').get_text())\n",
    "        except:\n",
    "            car_name.append('n/a')\n",
    "\n",
    "        #get the mileage of the cars\n",
    "        try:\n",
    "            car_mileage.append(i.find('div', {'class' : 'mileage'}).get_text())\n",
    "        except:\n",
    "            car_mileage.append('n/a')\n",
    "\n",
    "        #get the price of the car\n",
    "        try:\n",
    "            car_price.append(i.find('span', {'class' : 'primary-price'}).get_text())\n",
    "        except:\n",
    "            car_price.append('n/a')\n",
    "\n",
    "        #get the rating\n",
    "        try:\n",
    "            car_rating.append(i.find('span', {'class': 'sds-rating__count'}).get_text())\n",
    "        except:\n",
    "            car_rating.append('n/a')\n",
    "\n",
    "        #get the number of reviews\n",
    "        try:\n",
    "            car_ratingcount.append(i.find('span', {'class': 'sds-rating__link'}).get_text())\n",
    "        except:\n",
    "            car_ratingcount.append('n/a')"
   ]
  },
  {
   "cell_type": "code",
   "execution_count": null,
   "id": "2c2ee817-a1ee-48e8-b80c-5672144b1bef",
   "metadata": {},
   "outputs": [],
   "source": [
    "# Create a DataFrame\n",
    "\n",
    "car_info = pd.DataFrame({'Name': car_name, 'Mileage': car_mileage, 'Price': car_price, 'Rating': car_rating, 'Reviews': car_ratingcount})"
   ]
  },
  {
   "cell_type": "code",
   "execution_count": null,
   "id": "de4970f1-d3fe-4de5-890b-c897c4713f72",
   "metadata": {},
   "outputs": [],
   "source": [
    "#print the DataFrame\n",
    "car_info"
   ]
  },
  {
   "cell_type": "code",
   "execution_count": null,
   "id": "ee641333-bd61-4171-b038-a9a0d21023e4",
   "metadata": {},
   "outputs": [],
   "source": [
    "#Let's clean the data frame\n",
    "\n",
    "#The first thing we should do is to edit the Reviews column\n",
    "\n",
    "car_info['Reviews'] = car_info['Reviews'].apply(lambda x:x.strip('reviews)').strip('(')) #remove the word reviews and the parentheses\n",
    "car_info['Rating'] = car_info['Rating'].apply(lambda x:x.replace('n/a', '0')) #remove 'n/a'\n",
    "car_info['Reviews'] = car_info['Reviews'].apply(lambda x:x.replace('n/a', '0')) \n",
    "car_info['Mileage'] = car_info['Mileage'].apply(lambda x:x.replace('mi.', '')) #remove 'mi.' from the mileage column\n",
    "car_info['Price'] = car_info['Price'].apply(lambda x:x.replace('$', '')) # remove the $ from the Price column\n",
    "car_info['Price'] = car_info['Price'].apply(lambda x:x.replace(',', '')) #remove the ',' from the Price column\n",
    "car_info['Mileage'] = car_info['Mileage'].apply(lambda x:x.replace(',', '')) #remove the ',' from the Mileage column\n",
    "car_info['Reviews'] = car_info['Reviews'].apply(lambda x:x.replace(',', '')) #remove the ',' from the Reviews column\n",
    "car_info['Price'] = car_info['Price'].apply(lambda x:x.replace('Not Priced', '0')) #there's one car where the value is 'not priced', this should be converted to a number"
   ]
  },
  {
   "cell_type": "code",
   "execution_count": null,
   "id": "7ad690b0-680d-4cf8-9397-4ace9e1301e3",
   "metadata": {},
   "outputs": [],
   "source": [
    "car_info"
   ]
  },
  {
   "cell_type": "code",
   "execution_count": null,
   "id": "c4a9c644-b753-47b6-a736-6887893139c7",
   "metadata": {},
   "outputs": [],
   "source": [
    "#The Name column has a lot of important data on the Year, Company, Vehicle make and model\n",
    "\n",
    "car_info[[\"Year\", \"Company\", \"Make\", \"Model\"]] = car_info[\"Name\"].str.split(\" \", expand=True)"
   ]
  },
  {
   "cell_type": "code",
   "execution_count": null,
   "id": "6b8d433e-7160-4306-8465-43a5e1e97a65",
   "metadata": {},
   "outputs": [],
   "source": [
    "car_info"
   ]
  },
  {
   "cell_type": "code",
   "execution_count": null,
   "id": "269ed10e-4cc2-4094-9bf8-2680c1365cf5",
   "metadata": {},
   "outputs": [],
   "source": [
    "# I would like to change the position of the columns\n",
    "car_info = car_info.iloc[:,[0,6,7,8,5,2,1,3,4]]"
   ]
  },
  {
   "cell_type": "code",
   "execution_count": null,
   "id": "b16c4c44-7f13-4503-a26a-c25fd7553a43",
   "metadata": {},
   "outputs": [],
   "source": [
    "car_info"
   ]
  },
  {
   "cell_type": "code",
   "execution_count": null,
   "id": "9bc9df46-2cee-4aeb-b1a4-ee044c14eece",
   "metadata": {},
   "outputs": [],
   "source": [
    "# Drop the column Name and its no longer needed\n",
    "car_info = car_info.drop([\"Name\"], axis = 1)"
   ]
  },
  {
   "cell_type": "code",
   "execution_count": null,
   "id": "9a4eff5d-2e90-48eb-86af-97baa3a91ad5",
   "metadata": {},
   "outputs": [],
   "source": [
    "car_info"
   ]
  },
  {
   "cell_type": "code",
   "execution_count": null,
   "id": "f4d26a55-5971-4a0e-b15e-5c4618a62936",
   "metadata": {},
   "outputs": [],
   "source": [
    "#You can export the DataFrame to excel if you choose to proceed with excel\n",
    "car_info.to_excel('multiple_pages.xlsx', index = False)"
   ]
  },
  {
   "cell_type": "code",
   "execution_count": null,
   "id": "9747f482-0999-43f7-b730-7af6af055f43",
   "metadata": {},
   "outputs": [],
   "source": [
    "#You can export the DataFrame to a csv file if needed\n",
    "car_info.to_csv('multiple_pages.csv', index = False)"
   ]
  },
  {
   "cell_type": "code",
   "execution_count": null,
   "id": "dafb79e0-1333-459e-a1d2-4334b439d0ca",
   "metadata": {},
   "outputs": [],
   "source": [
    "#Let's determine the datatypes for each column within our car_info DataFrame\n",
    "car_info.dtypes"
   ]
  },
  {
   "cell_type": "code",
   "execution_count": null,
   "id": "0da45130-56e3-45ee-91f2-456e821fe1cc",
   "metadata": {},
   "outputs": [],
   "source": [
    "#All of the columns are listed as objects. We need to change the datatypes for at least some of these columns\n",
    "\n",
    "#Year should be converted to int\n",
    "car_info[\"Year\"] = car_info[\"Year\"].astype(int)"
   ]
  },
  {
   "cell_type": "code",
   "execution_count": null,
   "id": "cb292da1-bb7a-4a54-833c-4e287e364401",
   "metadata": {},
   "outputs": [],
   "source": [
    "car_info[\"Price\"] = car_info[\"Price\"].astype(float)"
   ]
  },
  {
   "cell_type": "code",
   "execution_count": null,
   "id": "6d41c4a7-6ec2-4635-8fc5-c3166b41dc7a",
   "metadata": {},
   "outputs": [],
   "source": [
    "car_info[\"Mileage\"] = car_info[\"Mileage\"].astype(float)"
   ]
  },
  {
   "cell_type": "code",
   "execution_count": null,
   "id": "fcf2689b-db36-4792-a0a9-5229003f8f90",
   "metadata": {},
   "outputs": [],
   "source": [
    "car_info[\"Rating\"] = car_info[\"Rating\"].astype(float)"
   ]
  },
  {
   "cell_type": "code",
   "execution_count": null,
   "id": "ca7d490d-552e-4b45-9d76-f9dbf755e3a8",
   "metadata": {},
   "outputs": [],
   "source": [
    "car_info[\"Reviews\"] = car_info[\"Reviews\"].astype(int)"
   ]
  },
  {
   "cell_type": "code",
   "execution_count": null,
   "id": "c1464a2c-69f0-4816-9416-1534a5bfed08",
   "metadata": {},
   "outputs": [],
   "source": [
    "car_info.dtypes"
   ]
  },
  {
   "cell_type": "code",
   "execution_count": null,
   "id": "90a450ac-8bd3-49bb-81f9-dce3e808502c",
   "metadata": {},
   "outputs": [],
   "source": [
    "car_info"
   ]
  },
  {
   "cell_type": "code",
   "execution_count": null,
   "id": "a35ce3a4-67c2-4d3e-9cd2-08e489b73a75",
   "metadata": {},
   "outputs": [],
   "source": [
    "#create a new column called Age (Current year - Year)"
   ]
  },
  {
   "cell_type": "code",
   "execution_count": null,
   "id": "f5eda255-0656-478e-86fa-690107c162fb",
   "metadata": {},
   "outputs": [],
   "source": [
    "#scatter plot & Other visualizations"
   ]
  },
  {
   "cell_type": "code",
   "execution_count": null,
   "id": "f33c966f-5541-4602-8e7b-f11b46cf35e1",
   "metadata": {},
   "outputs": [],
   "source": [
    "#depreciation - regression"
   ]
  }
 ],
 "metadata": {
  "kernelspec": {
   "display_name": "Python 3",
   "language": "python",
   "name": "python3"
  },
  "language_info": {
   "codemirror_mode": {
    "name": "ipython",
    "version": 3
   },
   "file_extension": ".py",
   "mimetype": "text/x-python",
   "name": "python",
   "nbconvert_exporter": "python",
   "pygments_lexer": "ipython3",
   "version": "3.12.0"
  }
 },
 "nbformat": 4,
 "nbformat_minor": 5
}
